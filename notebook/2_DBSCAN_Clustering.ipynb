{
 "cells": [
  {
   "cell_type": "code",
   "execution_count": null,
   "id": "c99a7078",
   "metadata": {},
   "outputs": [],
   "source": [
    "from sklearn.cluster import DBSCAN\n",
    "from sklearn.neighbors import NearestNeighbors\n",
    "import matplotlib.pyplot as plt\n",
    "\n",
    "# Load scaled data\n",
    "X_scaled = pd.read_csv('../outputs/scaled_data.csv').values\n",
    "\n",
    "# Find optimal eps (K-distance graph)\n",
    "nn = NearestNeighbors(n_neighbors=4).fit(X_scaled)\n",
    "distances, _ = nn.kneighbors(X_scaled)\n",
    "distances = np.sort(distances[:, -1])\n",
    "\n",
    "plt.plot(distances, color='purple')\n",
    "plt.title('K-Distance Graph for Optimal eps')\n",
    "plt.savefig('../outputs/plots/k_distance_graph.png')  # Save plot\n",
    "plt.show()\n",
    "\n",
    "# Run DBSCAN\n",
    "dbscan = DBSCAN(eps=0.3, min_samples=5)  # Adjust based on elbow\n",
    "clusters = dbscan.fit_predict(X_scaled)\n",
    "\n",
    "# Save results\n",
    "pd.Series(clusters, name='Cluster').to_csv('../outputs/clusters/dbscan_labels.csv', index=False)\n",
    "\n",
    "# Visualize clusters (2D PCA)\n",
    "from sklearn.decomposition import PCA\n",
    "pca = PCA(n_components=2)\n",
    "X_pca = pca.fit_transform(X_scaled)\n",
    "\n",
    "plt.scatter(X_pca[:, 0], X_pca[:, 1], c=clusters, cmap='viridis')\n",
    "plt.savefig('../outputs/plots/dbscan_clusters.png')\n",
    "plt.show()"
   ]
  }
 ],
 "metadata": {
  "language_info": {
   "name": "python"
  }
 },
 "nbformat": 4,
 "nbformat_minor": 5
}
