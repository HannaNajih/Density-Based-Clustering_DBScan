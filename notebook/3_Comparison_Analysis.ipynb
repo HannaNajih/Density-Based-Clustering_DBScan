{
 "cells": [
  {
   "cell_type": "code",
   "execution_count": null,
   "id": "f6e6ece2",
   "metadata": {},
   "outputs": [],
   "source": [
    "import pandas as pd\n",
    "from sklearn.metrics import silhouette_score\n",
    "\n",
    "# Load cluster labels from all methods\n",
    "dbscan_labels = pd.read_csv('../outputs/clusters/dbscan_labels.csv')\n",
    "agnes_labels = pd.read_csv('../outputs/clusters/agnes_labels.csv')  # From Phase 1\n",
    "kmeans_labels = pd.read_csv('../outputs/clusters/kmeans_labels.csv')  # From Phase 1\n",
    "\n",
    "# Load scaled data\n",
    "X_scaled = pd.read_csv('../outputs/scaled_data.csv')\n",
    "\n",
    "# Compare Silhouette Scores\n",
    "methods = {\n",
    "    'DBSCAN': dbscan_labels,\n",
    "    'AGNES': agnes_labels,\n",
    "    'K-Means': kmeans_labels\n",
    "}\n",
    "\n",
    "scores = {}\n",
    "for name, labels in methods.items():\n",
    "    if len(set(labels)) > 1:  # At least 2 clusters needed\n",
    "        scores[name] = silhouette_score(X_scaled, labels)\n",
    "\n",
    "# Print results\n",
    "print(\"Silhouette Scores:\")\n",
    "for method, score in scores.items():\n",
    "    print(f\"{method}: {score:.2f}\")\n",
    "\n",
    "# Plot scores\n",
    "plt.bar(scores.keys(), scores.values(), color=['#8A2BE2', '#DA70D6', '#FF69B4'])\n",
    "plt.title('Comparison of Clustering Methods')\n",
    "plt.ylabel('Silhouette Score')\n",
    "plt.savefig('../outputs/plots/silhouette_scores.png')\n",
    "plt.show()"
   ]
  }
 ],
 "metadata": {
  "language_info": {
   "name": "python"
  }
 },
 "nbformat": 4,
 "nbformat_minor": 5
}
