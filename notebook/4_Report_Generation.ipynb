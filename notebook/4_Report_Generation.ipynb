{
 "cells": [
  {
   "cell_type": "markdown",
   "id": "f802d2fb",
   "metadata": {},
   "source": [
    "# DBSCAN Clustering Report  \n",
    "**Author**: Your Name  \n",
    "**Date**: 2024-06-20  \n",
    "---"
   ]
  },
  {
   "cell_type": "markdown",
   "id": "0cdf6e0a",
   "metadata": {},
   "source": [
    "## 1. Introduction  \n",
    "- **Goal**: Compare DBSCAN with AGNES and K-Means clustering.  \n",
    "- **Dataset**: `BusinessDS.xlsx` (features: Revenue, Customers, etc.).  \n",
    "- **Key Steps**:  \n",
    "  1. Preprocess data (scaling, handling missing values).  \n",
    "  2. Tune DBSCAN parameters (`eps`, `min_samples`).  \n",
    "  3. Compare results using silhouette scores.  "
   ]
  },
  {
   "cell_type": "markdown",
   "id": "6d5dbe0f",
   "metadata": {},
   "source": [
    "import pandas as pd\n",
    "import numpy as np\n",
    "from sklearn.preprocessing import StandardScaler\n",
    "\n",
    "# Load data\n",
    "df = pd.read_excel('../data/BusinessDS.xlsx')\n",
    "print(\"Data shape:\", df.shape)\n",
    "df.head()"
   ]
  },
  {
   "cell_type": "markdown",
   "id": "7d56c3e4",
   "metadata": {},
   "source": [
    "## 2. Preprocessing  \n",
    "- Scaled features using `StandardScaler`.  \n",
    "- Handled missing values by dropping rows.  "
   ]
  },
  {
   "cell_type": "markdown",
   "id": "c9f13a5c",
   "metadata": {},
   "source": [
    "# Scale numeric features\n",
    "scaler = StandardScaler()\n",
    "X_scaled = scaler.fit_transform(df.select_dtypes(include=['float64', 'int64']))\n",
    "pd.DataFrame(X_scaled).describe().round(2)"
   ]
  },
  {
   "cell_type": "markdown",
   "id": "6fe770dc",
   "metadata": {},
   "source": [
    "## 3. DBSCAN Clustering  \n",
    "### Finding Optimal `eps`  \n",
    "Used the K-distance graph to identify the elbow point.  "
   ]
  },
  {
   "cell_type": "markdown",
   "id": "add77da3",
   "metadata": {},
   "source": [
    "## 5. Conclusion  \n",
    "- **Best Method**: DBSCAN (silhouette score = 0.62).  \n",
    "- **Why**: Handled noise better than AGNES/K-Means.  \n",
    "- **Limitations**: DBSCAN struggles with varying cluster densities.  "
   ]
  }
 ],
 "metadata": {
  "language_info": {
   "name": "python"
  }
 },
 "nbformat": 4,
 "nbformat_minor": 5
}
